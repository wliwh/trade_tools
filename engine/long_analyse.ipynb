{
 "cells": [
  {
   "cell_type": "code",
   "execution_count": 1,
   "id": "4c2e9a46",
   "metadata": {},
   "outputs": [],
   "source": [
    "import os\n",
    "import sys\n",
    "os.chdir(os.path.dirname('../'))\n",
    "from plt_bms_stk import index_comp_tb, echart_indexs_zig"
   ]
  },
  {
   "cell_type": "markdown",
   "id": "fe8895b8",
   "metadata": {},
   "source": [
    "### 2023：新的低点"
   ]
  },
  {
   "cell_type": "code",
   "execution_count": null,
   "id": "9cec92e2",
   "metadata": {},
   "outputs": [],
   "source": [
    "tb1 = echart_indexs_zig(beg='2022-10-10',end='2023-12-01',plt_width=960,zig_pct=4)\n",
    "tb1.render_notebook()"
   ]
  },
  {
   "cell_type": "markdown",
   "id": "2cb7dcf6",
   "metadata": {},
   "source": [
    "2023全年，全指呈现先上涨再下跌的整体情况。\n",
    "- 22年冬-23年春：小盘股于2022年十一后即刻反弹，在2023年2月中旬创出高点；而大盘股在十月底开启上涨，春节即为全年最高点\n",
    "- 23年春：整体呈震荡，4月中旬确定下跌形态\n",
    "- 23年春夏：小盘股经历5月中旬至8月初的震荡平台，大盘股则稍晚两周（6月初至9月底）\n",
    "- 23年冬：小盘股、大盘股先后跌破平台后，于10月下旬反弹。11月中下旬，小盘股开始震荡，大盘股则创出新低"
   ]
  },
  {
   "cell_type": "markdown",
   "id": "5c91fb23",
   "metadata": {},
   "source": [
    "### 2023H1：震荡"
   ]
  },
  {
   "cell_type": "markdown",
   "id": "00c5ecd3",
   "metadata": {},
   "source": [
    "23年上半年，市场整体呈自2022年10月底反弹后的下行态势，其间有数次题材驱动的反弹。从中证全指、基金重仓方面看，自1月30日的高点后不断下行，到5月末逐步企稳。"
   ]
  },
  {
   "cell_type": "code",
   "execution_count": 15,
   "id": "975c31f5",
   "metadata": {},
   "outputs": [
    {
     "data": {
      "text/html": [
       "<style type=\"text/css\">\n",
       "#T_d56d5_row0_col9, #T_d56d5_row1_col6, #T_d56d5_row1_col9, #T_d56d5_row2_col7, #T_d56d5_row3_col7, #T_d56d5_row4_col0, #T_d56d5_row4_col1, #T_d56d5_row4_col2, #T_d56d5_row4_col3, #T_d56d5_row4_col4, #T_d56d5_row4_col5, #T_d56d5_row4_col7, #T_d56d5_row4_col8, #T_d56d5_row4_col9, #T_d56d5_row4_col10, #T_d56d5_row5_col7 {\n",
       "  background-color: pink;\n",
       "}\n",
       "</style>\n",
       "<table id=\"T_d56d5\">\n",
       "  <thead>\n",
       "    <tr>\n",
       "      <th class=\"blank level0\" >&nbsp;</th>\n",
       "      <th id=\"T_d56d5_level0_col0\" class=\"col_heading level0 col0\" >5'</th>\n",
       "      <th id=\"T_d56d5_level0_col1\" class=\"col_heading level0 col1\" >24'</th>\n",
       "      <th id=\"T_d56d5_level0_col2\" class=\"col_heading level0 col2\" >60'</th>\n",
       "      <th id=\"T_d56d5_level0_col3\" class=\"col_heading level0 col3\" >inc</th>\n",
       "      <th id=\"T_d56d5_level0_col4\" class=\"col_heading level0 col4\" >incD</th>\n",
       "      <th id=\"T_d56d5_level0_col5\" class=\"col_heading level0 col5\" >Low2C</th>\n",
       "      <th id=\"T_d56d5_level0_col6\" class=\"col_heading level0 col6\" >amtP</th>\n",
       "      <th id=\"T_d56d5_level0_col7\" class=\"col_heading level0 col7\" >Zbeg</th>\n",
       "      <th id=\"T_d56d5_level0_col8\" class=\"col_heading level0 col8\" >Zend</th>\n",
       "      <th id=\"T_d56d5_level0_col9\" class=\"col_heading level0 col9\" >Zdays</th>\n",
       "      <th id=\"T_d56d5_level0_col10\" class=\"col_heading level0 col10\" >Zinc</th>\n",
       "    </tr>\n",
       "  </thead>\n",
       "  <tbody>\n",
       "    <tr>\n",
       "      <th id=\"T_d56d5_level0_row0\" class=\"row_heading level0 row0\" >上证50</th>\n",
       "      <td id=\"T_d56d5_row0_col0\" class=\"data row0 col0\" >0.09</td>\n",
       "      <td id=\"T_d56d5_row0_col1\" class=\"data row0 col1\" >0.09</td>\n",
       "      <td id=\"T_d56d5_row0_col2\" class=\"data row0 col2\" >0.15</td>\n",
       "      <td id=\"T_d56d5_row0_col3\" class=\"data row0 col3\" >0.56</td>\n",
       "      <td id=\"T_d56d5_row0_col4\" class=\"data row0 col4\" >0.26</td>\n",
       "      <td id=\"T_d56d5_row0_col5\" class=\"data row0 col5\" >0.60</td>\n",
       "      <td id=\"T_d56d5_row0_col6\" class=\"data row0 col6\" >1.41</td>\n",
       "      <td id=\"T_d56d5_row0_col7\" class=\"data row0 col7\" >2023-08-23</td>\n",
       "      <td id=\"T_d56d5_row0_col8\" class=\"data row0 col8\" >2023-09-04</td>\n",
       "      <td id=\"T_d56d5_row0_col9\" class=\"data row0 col9\" >8</td>\n",
       "      <td id=\"T_d56d5_row0_col10\" class=\"data row0 col10\" >4.72</td>\n",
       "    </tr>\n",
       "    <tr>\n",
       "      <th id=\"T_d56d5_level0_row1\" class=\"row_heading level0 row1\" >沪深300</th>\n",
       "      <td id=\"T_d56d5_row1_col0\" class=\"data row1 col0\" >0.08</td>\n",
       "      <td id=\"T_d56d5_row1_col1\" class=\"data row1 col1\" >0.08</td>\n",
       "      <td id=\"T_d56d5_row1_col2\" class=\"data row1 col2\" >0.32</td>\n",
       "      <td id=\"T_d56d5_row1_col3\" class=\"data row1 col3\" >1.08</td>\n",
       "      <td id=\"T_d56d5_row1_col4\" class=\"data row1 col4\" >0.89</td>\n",
       "      <td id=\"T_d56d5_row1_col5\" class=\"data row1 col5\" >1.18</td>\n",
       "      <td id=\"T_d56d5_row1_col6\" class=\"data row1 col6\" >1.49</td>\n",
       "      <td id=\"T_d56d5_row1_col7\" class=\"data row1 col7\" >2023-08-23</td>\n",
       "      <td id=\"T_d56d5_row1_col8\" class=\"data row1 col8\" >2023-09-04</td>\n",
       "      <td id=\"T_d56d5_row1_col9\" class=\"data row1 col9\" >8</td>\n",
       "      <td id=\"T_d56d5_row1_col10\" class=\"data row1 col10\" >4.12</td>\n",
       "    </tr>\n",
       "    <tr>\n",
       "      <th id=\"T_d56d5_level0_row2\" class=\"row_heading level0 row2\" >中证500</th>\n",
       "      <td id=\"T_d56d5_row2_col0\" class=\"data row2 col0\" >0.23</td>\n",
       "      <td id=\"T_d56d5_row2_col1\" class=\"data row2 col1\" >0.44</td>\n",
       "      <td id=\"T_d56d5_row2_col2\" class=\"data row2 col2\" >0.81</td>\n",
       "      <td id=\"T_d56d5_row2_col3\" class=\"data row2 col3\" >2.28</td>\n",
       "      <td id=\"T_d56d5_row2_col4\" class=\"data row2 col4\" >2.15</td>\n",
       "      <td id=\"T_d56d5_row2_col5\" class=\"data row2 col5\" >2.15</td>\n",
       "      <td id=\"T_d56d5_row2_col6\" class=\"data row2 col6\" >1.44</td>\n",
       "      <td id=\"T_d56d5_row2_col7\" class=\"data row2 col7\" >2023-08-25</td>\n",
       "      <td id=\"T_d56d5_row2_col8\" class=\"data row2 col8\" >2023-09-04</td>\n",
       "      <td id=\"T_d56d5_row2_col9\" class=\"data row2 col9\" >6</td>\n",
       "      <td id=\"T_d56d5_row2_col10\" class=\"data row2 col10\" >4.45</td>\n",
       "    </tr>\n",
       "    <tr>\n",
       "      <th id=\"T_d56d5_level0_row3\" class=\"row_heading level0 row3\" >中证1000</th>\n",
       "      <td id=\"T_d56d5_row3_col0\" class=\"data row3 col0\" >0.48</td>\n",
       "      <td id=\"T_d56d5_row3_col1\" class=\"data row3 col1\" >0.98</td>\n",
       "      <td id=\"T_d56d5_row3_col2\" class=\"data row3 col2\" >1.58</td>\n",
       "      <td id=\"T_d56d5_row3_col3\" class=\"data row3 col3\" >3.15</td>\n",
       "      <td id=\"T_d56d5_row3_col4\" class=\"data row3 col4\" >2.92</td>\n",
       "      <td id=\"T_d56d5_row3_col5\" class=\"data row3 col5\" >2.92</td>\n",
       "      <td id=\"T_d56d5_row3_col6\" class=\"data row3 col6\" >1.33</td>\n",
       "      <td id=\"T_d56d5_row3_col7\" class=\"data row3 col7\" >2023-08-25</td>\n",
       "      <td id=\"T_d56d5_row3_col8\" class=\"data row3 col8\" >2023-09-04</td>\n",
       "      <td id=\"T_d56d5_row3_col9\" class=\"data row3 col9\" >6</td>\n",
       "      <td id=\"T_d56d5_row3_col10\" class=\"data row3 col10\" >5.44</td>\n",
       "    </tr>\n",
       "    <tr>\n",
       "      <th id=\"T_d56d5_level0_row4\" class=\"row_heading level0 row4\" >国证2000</th>\n",
       "      <td id=\"T_d56d5_row4_col0\" class=\"data row4 col0\" >0.61</td>\n",
       "      <td id=\"T_d56d5_row4_col1\" class=\"data row4 col1\" >1.17</td>\n",
       "      <td id=\"T_d56d5_row4_col2\" class=\"data row4 col2\" >1.78</td>\n",
       "      <td id=\"T_d56d5_row4_col3\" class=\"data row4 col3\" >3.41</td>\n",
       "      <td id=\"T_d56d5_row4_col4\" class=\"data row4 col4\" >3.22</td>\n",
       "      <td id=\"T_d56d5_row4_col5\" class=\"data row4 col5\" >3.22</td>\n",
       "      <td id=\"T_d56d5_row4_col6\" class=\"data row4 col6\" >1.27</td>\n",
       "      <td id=\"T_d56d5_row4_col7\" class=\"data row4 col7\" >2023-08-25</td>\n",
       "      <td id=\"T_d56d5_row4_col8\" class=\"data row4 col8\" >2023-09-06</td>\n",
       "      <td id=\"T_d56d5_row4_col9\" class=\"data row4 col9\" >8</td>\n",
       "      <td id=\"T_d56d5_row4_col10\" class=\"data row4 col10\" >6.09</td>\n",
       "    </tr>\n",
       "    <tr>\n",
       "      <th id=\"T_d56d5_level0_row5\" class=\"row_heading level0 row5\" >国证A指</th>\n",
       "      <td id=\"T_d56d5_row5_col0\" class=\"data row5 col0\" >0.27</td>\n",
       "      <td id=\"T_d56d5_row5_col1\" class=\"data row5 col1\" >0.51</td>\n",
       "      <td id=\"T_d56d5_row5_col2\" class=\"data row5 col2\" >0.89</td>\n",
       "      <td id=\"T_d56d5_row5_col3\" class=\"data row5 col3\" >2.09</td>\n",
       "      <td id=\"T_d56d5_row5_col4\" class=\"data row5 col4\" >1.93</td>\n",
       "      <td id=\"T_d56d5_row5_col5\" class=\"data row5 col5\" >1.93</td>\n",
       "      <td id=\"T_d56d5_row5_col6\" class=\"data row5 col6\" >1.35</td>\n",
       "      <td id=\"T_d56d5_row5_col7\" class=\"data row5 col7\" >2023-08-25</td>\n",
       "      <td id=\"T_d56d5_row5_col8\" class=\"data row5 col8\" >2023-09-04</td>\n",
       "      <td id=\"T_d56d5_row5_col9\" class=\"data row5 col9\" >6</td>\n",
       "      <td id=\"T_d56d5_row5_col10\" class=\"data row5 col10\" >4.68</td>\n",
       "    </tr>\n",
       "  </tbody>\n",
       "</table>\n"
      ],
      "text/plain": [
       "<pandas.io.formats.style.Styler at 0x1e0fd4b0670>"
      ]
     },
     "execution_count": 15,
     "metadata": {},
     "output_type": "execute_result"
    }
   ],
   "source": [
    "p1=index_comp_tb('2023-08-10','2023-09-20','2023-08-29',comp_day=-2)\n",
    "p1.style.format(precision=2).highlight_max(color='pink')\n",
    "# p1.style.highlight_max()"
   ]
  },
  {
   "cell_type": "code",
   "execution_count": null,
   "id": "b50a1423",
   "metadata": {},
   "outputs": [],
   "source": []
  }
 ],
 "metadata": {
  "kernelspec": {
   "display_name": "Python 3 (ipykernel)",
   "language": "python",
   "name": "python3"
  },
  "language_info": {
   "codemirror_mode": {
    "name": "ipython",
    "version": 3
   },
   "file_extension": ".py",
   "mimetype": "text/x-python",
   "name": "python",
   "nbconvert_exporter": "python",
   "pygments_lexer": "ipython3",
   "version": "3.9.16"
  }
 },
 "nbformat": 4,
 "nbformat_minor": 5
}
